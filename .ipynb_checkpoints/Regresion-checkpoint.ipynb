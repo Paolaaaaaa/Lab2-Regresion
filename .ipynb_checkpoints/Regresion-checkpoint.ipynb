{
 "cells": [
  {
   "cell_type": "code",
   "execution_count": null,
   "id": "05cf8923-899e-4289-b069-2d75af264504",
   "metadata": {},
   "outputs": [],
   "source": [
    "import numpy as np\n",
    "import pandas as pd\n",
    "\n",
    "from joblib import dump, load\n",
    "\n",
    "import matplotlib.pyplot as plt\n",
    "import seaborn as sns\n",
    "\n",
    "from sklearn.model_selection import train_test_split\n",
    "from sklearn.linear_model import LinearRegression\n",
    "from sklearn.pipeline import Pipeline\n",
    "from sklearn.compose import ColumnTransformer\n",
    "from sklearn.preprocessing import StandardScaler\n",
    "from sklearn.preprocessing import PolynomialFeatures\n",
    "from sklearn.metrics import mean_absolute_error, mean_squared_error, r2_score\n",
    "from sklearn.preprocessing import LabelEncoder\n",
    "from sklearn.preprocessing import MinMaxScaler\n",
    "\n",
    "\n",
    "\n",
    "import scipy.stats as stats"
   ]
  },
  {
   "cell_type": "code",
   "execution_count": null,
   "id": "499ee4a9-3290-4bcb-950e-415ad598ed1d",
   "metadata": {},
   "outputs": [],
   "source": [
    "pd.set_option('display.max_columns', None)\n",
    "pd.set_option('display.max_rows', 50)"
   ]
  },
  {
   "cell_type": "code",
   "execution_count": null,
   "id": "bbe0dd3a-ff84-4f49-9081-9487dbc03acd",
   "metadata": {},
   "outputs": [],
   "source": [
    "df_vehiculos = pd.read_csv('./data/MotorAlpes_data.csv', sep=',', encoding = 'utf-8')"
   ]
  },
  {
   "cell_type": "code",
   "execution_count": null,
   "id": "1a95a0a2-07ac-4a8a-ba2e-7bac0ff8099f",
   "metadata": {},
   "outputs": [],
   "source": [
    "df_vehiculos.shape"
   ]
  },
  {
   "cell_type": "code",
   "execution_count": null,
   "id": "6275d55a-a616-4b71-b99c-84a2450ae477",
   "metadata": {},
   "outputs": [],
   "source": [
    "df_vehiculos.sample(5)"
   ]
  },
  {
   "cell_type": "markdown",
   "id": "64c1c680",
   "metadata": {},
   "source": [
    "## 2.  Entendimiento y limpieza de los datos\n",
    "\n",
    "Una variable que siempre tiene que estar es `Selling_price`, ya que la intención de este modelo es identificar las variables que impactar el precio de un vehiculo usado. Así como predecir el precio de un vehiculo a partir de esas varibles que afectan el precio.\n",
    "\n",
    "Para esto solo se ha seleccionado variables numericas."
   ]
  },
  {
   "cell_type": "code",
   "execution_count": null,
   "id": "56eba10a",
   "metadata": {},
   "outputs": [],
   "source": [
    "variables_interes = ['year', 'km_driven', 'seats', 'mileage', 'engine','max_power','transmission','fuel','seller_type','owner']\n",
    "\n",
    "df_vehiculos_t = df_vehiculos.copy()"
   ]
  },
  {
   "cell_type": "code",
   "execution_count": null,
   "id": "0793a78c",
   "metadata": {},
   "outputs": [],
   "source": [
    "df_vehiculos_t[['selling_price'] + variables_interes].isnull().sum() / df_vehiculos_t.shape[0]"
   ]
  },
  {
   "cell_type": "code",
   "execution_count": null,
   "id": "a560d569",
   "metadata": {},
   "outputs": [],
   "source": [
    "encoder = LabelEncoder()\n",
    "df_vehiculos_t[\"owner\"] = encoder.fit_transform(df_vehiculos_t[\"owner\"])\n",
    "print(encoder.classes_)\n",
    "df_vehiculos_t[\"seller_type\"] = encoder.fit_transform(df_vehiculos_t[\"seller_type\"])\n",
    "print(encoder.classes_)\n",
    "\n",
    "df_vehiculos_t[\"fuel\"] = encoder.fit_transform(df_vehiculos_t[\"fuel\"])\n",
    "print(encoder.classes_)\n",
    "\n",
    "df_vehiculos_t[\"transmission\"] = encoder.fit_transform(df_vehiculos_t[\"transmission\"])\n",
    "print(encoder.classes_)\n",
    "\n",
    "df_vehiculos_t.sample(5)\n",
    "\n"
   ]
  },
  {
   "cell_type": "markdown",
   "id": "9b4b3139",
   "metadata": {},
   "source": [
    "## 2.1 Relaciones entre variables\n",
    "A continuación vamos a visualizar la correlación entre selling price y las variables de interes."
   ]
  },
  {
   "cell_type": "code",
   "execution_count": null,
   "id": "914ddf71",
   "metadata": {},
   "outputs": [],
   "source": [
    "sns.pairplot(df_vehiculos_t, height = 4, y_vars = 'selling_price', x_vars = variables_interes, kind = 'scatter')\n",
    "plt.show()"
   ]
  },
  {
   "cell_type": "code",
   "execution_count": null,
   "id": "090c3c20",
   "metadata": {},
   "outputs": [],
   "source": [
    "plt.figure(figsize = (12, 10))\n",
    "sns.heatmap(df_vehiculos_t[variables_interes].corr(), cmap = 'vlag', vmin = -1, vmax = 1)\n",
    "plt.show()"
   ]
  },
  {
   "cell_type": "markdown",
   "id": "f2574de9",
   "metadata": {},
   "source": [
    "Cambio de los valores nulos por la media de los datos por cada columna"
   ]
  },
  {
   "cell_type": "code",
   "execution_count": null,
   "id": "09ca7eb0-816d-4514-98c2-a3bf2a9e2523",
   "metadata": {},
   "outputs": [],
   "source": [
    "df_vehiculos_copy = df_vehiculos_t.copy()"
   ]
  },
  {
   "cell_type": "code",
   "execution_count": null,
   "id": "0e1cc4b6-9713-4b83-a607-e15d5f97186e",
   "metadata": {},
   "outputs": [],
   "source": [
    "def fill_na_all(df, var_to_transform):\n",
    "    for i in var_to_transform:\n",
    "        mean = df[i].mean()\n",
    "        df[i]=df[i].fillna(mean)\n",
    "    mean = df['selling_price'].mean()\n",
    "    df['selling_price']=df['selling_price'].fillna(mean)\n",
    "    return df\n",
    "        "
   ]
  },
  {
   "cell_type": "code",
   "execution_count": null,
   "id": "0b1ff460",
   "metadata": {},
   "outputs": [],
   "source": [
    "df_vehiculos_copy= fill_na_all(df_vehiculos_copy,variables_interes)"
   ]
  },
  {
   "cell_type": "code",
   "execution_count": null,
   "id": "45a30b92",
   "metadata": {},
   "outputs": [],
   "source": [
    "df_vehiculos_copy.sample(5)\n",
    "df_vehiculos_copy[['selling_price'] + variables_interes].isnull().sum() / df_vehiculos_copy.shape[0]\n",
    "#Se muestra que se ha pasado los nulos a valores promedio"
   ]
  },
  {
   "cell_type": "code",
   "execution_count": null,
   "id": "1e5fa815",
   "metadata": {},
   "outputs": [],
   "source": [
    "sns.pairplot(df_vehiculos_copy, height = 4, y_vars = 'selling_price', x_vars = variables_interes, kind = 'scatter')\n",
    "plt.show()"
   ]
  },
  {
   "cell_type": "markdown",
   "id": "65e78014",
   "metadata": {},
   "source": [
    "## 3.Particionamiento del conjunto de datos.\n",
    "Separación datos x y y para entrenamiento y x y y para test."
   ]
  },
  {
   "cell_type": "code",
   "execution_count": null,
   "id": "303265f9",
   "metadata": {},
   "outputs": [],
   "source": [
    "x_train, x_test, y_train,  y_test  = train_test_split(df_vehiculos_copy[variables_interes], df_vehiculos_copy['selling_price'], test_size=0.3, random_state=1)\n",
    "x_train.shape, y_train.shape\n",
    "x_test.shape, y_test.shape"
   ]
  },
  {
   "cell_type": "code",
   "execution_count": null,
   "id": "5ca7bbe6",
   "metadata": {},
   "outputs": [],
   "source": [
    "df_vehiculos_test_final = pd.read_csv('./data/MotorAlpes_test.csv', sep=',', encoding = 'utf-8')\n",
    "X_test = df_vehiculos_test_final[variables_interes]\n",
    "X_test.shape"
   ]
  },
  {
   "cell_type": "markdown",
   "id": "64c2ab6f",
   "metadata": {},
   "source": [
    "## 4. Entrenamiento de un primer modelo\n",
    "Para este primer modelo solo se va a remplazar los valores nulos a la media  de todos los datos."
   ]
  },
  {
   "cell_type": "code",
   "execution_count": null,
   "id": "a0c588cf",
   "metadata": {},
   "outputs": [],
   "source": [
    "regression = LinearRegression()\n",
    "regression.fit(x_train, y_train)"
   ]
  },
  {
   "cell_type": "markdown",
   "id": "21a241a8",
   "metadata": {},
   "source": [
    "### 4.1 Interpretación de los coeficientes y del intercepto"
   ]
  },
  {
   "cell_type": "markdown",
   "id": "75d15475",
   "metadata": {},
   "source": [
    "En base a los coeficientes anteriormente mostrados, solo datos como engine, max_power, y km_driven tienen un coeficiente de puridad acceptablle ."
   ]
  },
  {
   "cell_type": "code",
   "execution_count": null,
   "id": "a502d744",
   "metadata": {},
   "outputs": [],
   "source": [
    "f, axs = plt.subplots(1, len(variables_interes), sharey = True, figsize = (20, 4))\n",
    "\n",
    "for i in range(len(variables_interes)):\n",
    "    col = variables_interes[i]\n",
    "    x = x_train[col]\n",
    "    m = regression.coef_[i]\n",
    "    b = regression.intercept_\n",
    "\n",
    "    axs[i].plot(x, y_train, 'o', alpha = 0.1)\n",
    "    axs[i].plot(x, x * m + b)\n",
    "    axs[i].set_title(col)\n",
    "plt.show()"
   ]
  },
  {
   "cell_type": "code",
   "execution_count": null,
   "id": "b733f7fe",
   "metadata": {},
   "outputs": [],
   "source": [
    "pd.DataFrame({'columns': variables_interes, 'coef': regression.coef_})"
   ]
  },
  {
   "cell_type": "code",
   "execution_count": null,
   "id": "1f78d258",
   "metadata": {},
   "outputs": [],
   "source": [
    "regression.intercept_"
   ]
  },
  {
   "cell_type": "markdown",
   "id": "e6528c4b",
   "metadata": {},
   "source": [
    "De lo anterior se puede interpretar que hay mukchos valores atipicos que no permiten detectar una relación lineal entre el precio y alguna de las caracteristicas."
   ]
  },
  {
   "cell_type": "markdown",
   "id": "16eb37f6",
   "metadata": {},
   "source": [
    "## 4.2 Validación del modelo\n",
    "### Mean Absolute Error\n"
   ]
  },
  {
   "cell_type": "code",
   "execution_count": null,
   "id": "3589962a",
   "metadata": {},
   "outputs": [],
   "source": [
    "print('Train:', mean_absolute_error(y_train, regression.predict(x_train)))\n",
    "print('Test:', mean_absolute_error(y_test, regression.predict(x_test)))"
   ]
  },
  {
   "cell_type": "markdown",
   "id": "8395f863",
   "metadata": {},
   "source": [
    "### Root Mean Squeared Error (RMSE)"
   ]
  },
  {
   "cell_type": "code",
   "execution_count": null,
   "id": "deb5f08c",
   "metadata": {},
   "outputs": [],
   "source": [
    " print('Train:', np.sqrt(mean_squared_error(y_train, regression.predict(x_train))))\n",
    "print('Test:', np.sqrt(mean_squared_error(y_test, regression.predict(x_test))))"
   ]
  },
  {
   "cell_type": "code",
   "execution_count": null,
   "id": "ec103905",
   "metadata": {},
   "outputs": [],
   "source": [
    "plt.figure(figsize = (15, 3))\n",
    "sns.boxplot(x = y_test, showmeans = True, orient = 'h')\n",
    "plt.title('Valor real de $\\t{selling\\_price}$')\n",
    "plt.grid()\n",
    "plt.show()"
   ]
  },
  {
   "cell_type": "markdown",
   "id": "cf853926",
   "metadata": {},
   "source": [
    "## 5. Entrenamiento 2do Modelo\n"
   ]
  },
  {
   "cell_type": "code",
   "execution_count": null,
   "id": "bb91722d",
   "metadata": {},
   "outputs": [],
   "source": [
    "def fill_outliers(df, var_to_transform):    \n",
    "    q_low = df['selling_price'].quantile(0.25)\n",
    "    q_hi  = df['selling_price'].quantile(0.75)\n",
    "    iqr=q_hi-q_low\n",
    "    maximus = q_hi-1.5*iqr\n",
    "    minimus = q_low-1.5*iqr\n",
    "\n",
    "    mean = df['selling_price'].mean()\n",
    "\n",
    "\n",
    "\n",
    "    df = df.mask(df['selling_price']>maximus,q_hi)\n",
    "    df = df.mask(df['selling_price']<minimus,q_low)\n",
    "    return df\n",
    "        \n",
    " "
   ]
  },
  {
   "cell_type": "code",
   "execution_count": null,
   "id": "ce4913d0",
   "metadata": {},
   "outputs": [],
   "source": [
    "df_vehiculos_transformed=fill_outliers(df_vehiculos_copy,variables_interes)"
   ]
  },
  {
   "cell_type": "code",
   "execution_count": null,
   "id": "422f33a2",
   "metadata": {},
   "outputs": [],
   "source": [
    "sns.pairplot(df_vehiculos_transformed, height = 4, y_vars = 'selling_price', x_vars = variables_interes, kind = 'scatter')\n",
    "plt.show()"
   ]
  },
  {
   "cell_type": "code",
   "execution_count": null,
   "id": "d2038032",
   "metadata": {},
   "outputs": [],
   "source": [
    "regression_2 = LinearRegression()\n",
    "regression_2.fit(x_train, y_train)"
   ]
  },
  {
   "cell_type": "code",
   "execution_count": null,
   "id": "dd5a932f",
   "metadata": {},
   "outputs": [],
   "source": [
    "f, axs = plt.subplots(1, len(variables_interes), sharey = True, figsize = (20, 4))\n",
    "\n",
    "for i in range(len(variables_interes)):\n",
    "    col = variables_interes[i]\n",
    "    x = x_train[col]\n",
    "    m = regression_2.coef_[i]\n",
    "    b = regression_2.intercept_\n",
    "\n",
    "    axs[i].plot(x, y_train, 'o', alpha = 0.1)\n",
    "    axs[i].plot(x, x * m + b)\n",
    "    axs[i].set_title(col)\n",
    "plt.show()"
   ]
  },
  {
   "cell_type": "code",
   "execution_count": null,
   "id": "7b67acbe",
   "metadata": {},
   "outputs": [],
   "source": [
    "regression_2.intercept_"
   ]
  },
  {
   "cell_type": "code",
   "execution_count": null,
   "id": "f144df78",
   "metadata": {},
   "outputs": [],
   "source": [
    "pd.DataFrame({'columns': variables_interes, 'coef': regression_2.coef_})"
   ]
  },
  {
   "cell_type": "markdown",
   "id": "a68083be",
   "metadata": {},
   "source": [
    "### 5.2 Validación 2do Modelo\n",
    "\n",
    "\n",
    "#### Mean Absolute Error\n"
   ]
  },
  {
   "cell_type": "code",
   "execution_count": null,
   "id": "e0dd7107",
   "metadata": {},
   "outputs": [],
   "source": [
    "print('Train:', mean_absolute_error(y_train, regression_2.predict(x_train)))\n",
    "print('Test:', mean_absolute_error(y_test, regression_2.predict(x_test)))"
   ]
  },
  {
   "cell_type": "code",
   "execution_count": null,
   "id": "41e0e7b2",
   "metadata": {},
   "outputs": [],
   "source": [
    " print('Train:', np.sqrt(mean_squared_error(y_train, regression_2.predict(x_train))))\n",
    "print('Test:', np.sqrt(mean_squared_error(y_test, regression_2.predict(x_test))))"
   ]
  },
  {
   "cell_type": "code",
   "execution_count": null,
   "id": "252143f4",
   "metadata": {},
   "outputs": [],
   "source": [
    "plt.figure(figsize = (15, 3))\n",
    "sns.boxplot(x = y_test, showmeans = True, orient = 'h')\n",
    "plt.title('Valor real de $\\t{selling\\_price}$')\n",
    "plt.grid()\n",
    "plt.show()"
   ]
  },
  {
   "cell_type": "markdown",
   "id": "b125b7d5",
   "metadata": {},
   "source": [
    "## 6. Entrenamiento 3er Modelo\n",
    "Para este tercer modelo se plantea usar metodos de normalización con tal de llegar a quitar el efecto de los valores atipicos del modelo."
   ]
  },
  {
   "cell_type": "code",
   "execution_count": null,
   "id": "869f79eb",
   "metadata": {},
   "outputs": [],
   "source": [
    "data_tercer_modelo = df_vehiculos_copy.copy()\n",
    "def normalize_cols(df, var_to_transform):\n",
    "    scaler = MinMaxScaler()\n",
    "\n",
    "    arr_scaled = scaler.fit_transform(df)\n",
    "    df_scaled = pd.DataFrame(arr_scaled, columns=df.columns,index=df.index)\n",
    "\n",
    "    return df_scaled\n",
    "\n",
    "        "
   ]
  },
  {
   "cell_type": "code",
   "execution_count": null,
   "id": "6e8718c9",
   "metadata": {},
   "outputs": [],
   "source": [
    "norm_data=normalize_cols(data_tercer_modelo,variables_interes)\n",
    "norm_data.sample(5)"
   ]
  },
  {
   "cell_type": "code",
   "execution_count": null,
   "id": "62c5a22a",
   "metadata": {},
   "outputs": [],
   "source": [
    "x_train, y_train  = norm_data[variables_interes], df_vehiculos_transformed['selling_price']\n",
    "x_train.shape, y_train.shape"
   ]
  },
  {
   "cell_type": "code",
   "execution_count": null,
   "id": "dc414186",
   "metadata": {},
   "outputs": [],
   "source": [
    "regression_3 = LinearRegression()\n",
    "regression_3.fit(x_train, y_train)\n",
    "regression_3.intercept_"
   ]
  },
  {
   "cell_type": "code",
   "execution_count": null,
   "id": "7edeebff",
   "metadata": {},
   "outputs": [],
   "source": [
    "f, axs = plt.subplots(1, len(variables_interes), sharey = True, figsize = (20, 4))\n",
    "\n",
    "for i in range(len(variables_interes)):\n",
    "    col = variables_interes[i]\n",
    "    x = x_train[col]\n",
    "    m = regression_3.coef_[i]\n",
    "    b = regression_3.intercept_\n",
    "\n",
    "    axs[i].plot(x, y_train, 'o', alpha = 0.1)\n",
    "    axs[i].plot(x, x * m + b)\n",
    "    axs[i].set_title(col)\n",
    "plt.show()"
   ]
  },
  {
   "cell_type": "code",
   "execution_count": null,
   "id": "1546744a",
   "metadata": {},
   "outputs": [],
   "source": [
    "pd.DataFrame({'columns': variables_interes, 'coef': regression_3.coef_})"
   ]
  },
  {
   "cell_type": "markdown",
   "id": "31548efe",
   "metadata": {},
   "source": [
    "## 7. Entrenamiento 4to Modelo\n",
    "\n",
    "Para este segundo modelo se va a aplicar metodos de normalización con tal "
   ]
  },
  {
   "cell_type": "code",
   "execution_count": null,
   "id": "e600070a",
   "metadata": {},
   "outputs": [],
   "source": [
    "pipeline = Pipeline(\n",
    "    [\n",
    "        ('scaler', StandardScaler()),\n",
    "        ('model', LinearRegression())\n",
    "    ]\n",
    ")"
   ]
  },
  {
   "cell_type": "code",
   "execution_count": null,
   "id": "047ba188",
   "metadata": {},
   "outputs": [],
   "source": [
    "pipeline.fit(X_train, y_train)"
   ]
  },
  {
   "cell_type": "code",
   "execution_count": null,
   "id": "e091575f",
   "metadata": {},
   "outputs": [],
   "source": [
    "pd.DataFrame({'columns': variables_interes, 'coef': pipeline['model'].coef_})"
   ]
  },
  {
   "cell_type": "code",
   "execution_count": null,
   "id": "4496e3f5",
   "metadata": {},
   "outputs": [],
   "source": [
    "pipeline['model'].intercept_"
   ]
  }
 ],
 "metadata": {
  "kernelspec": {
   "display_name": "Python 3 (ipykernel)",
   "language": "python",
   "name": "python3"
  },
  "language_info": {
   "codemirror_mode": {
    "name": "ipython",
    "version": 3
   },
   "file_extension": ".py",
   "mimetype": "text/x-python",
   "name": "python",
   "nbconvert_exporter": "python",
   "pygments_lexer": "ipython3",
   "version": "3.9.13"
  }
 },
 "nbformat": 4,
 "nbformat_minor": 5
}
