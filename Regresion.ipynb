{
 "cells": [
  {
   "cell_type": "code",
   "execution_count": 4,
   "id": "05cf8923-899e-4289-b069-2d75af264504",
   "metadata": {},
   "outputs": [],
   "source": [
    "import numpy as np\n",
    "import pandas as pd\n",
    "\n",
    "from joblib import dump, load\n",
    "\n",
    "import matplotlib.pyplot as plt\n",
    "import seaborn as sns\n",
    "\n",
    "from sklearn.model_selection import train_test_split\n",
    "from sklearn.linear_model import LinearRegression\n",
    "from sklearn.pipeline import Pipeline\n",
    "from sklearn.compose import ColumnTransformer\n",
    "from sklearn.preprocessing import StandardScaler\n",
    "from sklearn.preprocessing import PolynomialFeatures\n",
    "from sklearn.metrics import mean_absolute_error, mean_squared_error, r2_score\n",
    "\n",
    "import scipy.stats as stats"
   ]
  },
  {
   "cell_type": "code",
   "execution_count": 5,
   "id": "bbe0dd3a-ff84-4f49-9081-9487dbc03acd",
   "metadata": {},
   "outputs": [],
   "source": [
    "df_vehiculos = pd.read_csv('./MotorAlpes.csv', sep=',', encoding = 'utf-8', index_col=0)"
   ]
  },
  {
   "cell_type": "code",
   "execution_count": 6,
   "id": "1a95a0a2-07ac-4a8a-ba2e-7bac0ff8099f",
   "metadata": {},
   "outputs": [
    {
     "data": {
      "text/plain": [
       "(791, 10)"
      ]
     },
     "execution_count": 6,
     "metadata": {},
     "output_type": "execute_result"
    }
   ],
   "source": [
    "df_vehiculos.shape"
   ]
  },
  {
   "cell_type": "code",
   "execution_count": 8,
   "id": "6275d55a-a616-4b71-b99c-84a2450ae477",
   "metadata": {},
   "outputs": [
    {
     "data": {
      "text/html": [
       "<div>\n",
       "<style scoped>\n",
       "    .dataframe tbody tr th:only-of-type {\n",
       "        vertical-align: middle;\n",
       "    }\n",
       "\n",
       "    .dataframe tbody tr th {\n",
       "        vertical-align: top;\n",
       "    }\n",
       "\n",
       "    .dataframe thead th {\n",
       "        text-align: right;\n",
       "    }\n",
       "</style>\n",
       "<table border=\"1\" class=\"dataframe\">\n",
       "  <thead>\n",
       "    <tr style=\"text-align: right;\">\n",
       "      <th></th>\n",
       "      <th>year</th>\n",
       "      <th>km_driven</th>\n",
       "      <th>owner</th>\n",
       "      <th>seller_type</th>\n",
       "      <th>seats</th>\n",
       "      <th>fuel</th>\n",
       "      <th>transmission</th>\n",
       "      <th>mileage</th>\n",
       "      <th>engine</th>\n",
       "      <th>max_power</th>\n",
       "    </tr>\n",
       "  </thead>\n",
       "  <tbody>\n",
       "    <tr>\n",
       "      <th>6670</th>\n",
       "      <td>2013.0</td>\n",
       "      <td>70000.0</td>\n",
       "      <td>Third Owner</td>\n",
       "      <td>Individual</td>\n",
       "      <td>8.0</td>\n",
       "      <td>Diesel</td>\n",
       "      <td>Manual</td>\n",
       "      <td>14.00</td>\n",
       "      <td>2523.0</td>\n",
       "      <td>75.00</td>\n",
       "    </tr>\n",
       "    <tr>\n",
       "      <th>2310</th>\n",
       "      <td>2009.0</td>\n",
       "      <td>80000.0</td>\n",
       "      <td>Second Owner</td>\n",
       "      <td>Individual</td>\n",
       "      <td>5.0</td>\n",
       "      <td>Petrol</td>\n",
       "      <td>Manual</td>\n",
       "      <td>20.36</td>\n",
       "      <td>1197.0</td>\n",
       "      <td>78.90</td>\n",
       "    </tr>\n",
       "    <tr>\n",
       "      <th>7486</th>\n",
       "      <td>2015.0</td>\n",
       "      <td>125000.0</td>\n",
       "      <td>First Owner</td>\n",
       "      <td>Individual</td>\n",
       "      <td>8.0</td>\n",
       "      <td>Diesel</td>\n",
       "      <td>Manual</td>\n",
       "      <td>21.04</td>\n",
       "      <td>1461.0</td>\n",
       "      <td>1901.96</td>\n",
       "    </tr>\n",
       "    <tr>\n",
       "      <th>2620</th>\n",
       "      <td>2015.0</td>\n",
       "      <td>30000.0</td>\n",
       "      <td>First Owner</td>\n",
       "      <td>Individual</td>\n",
       "      <td>5.0</td>\n",
       "      <td>Petrol</td>\n",
       "      <td>Manual</td>\n",
       "      <td>18.90</td>\n",
       "      <td>1197.0</td>\n",
       "      <td>82.00</td>\n",
       "    </tr>\n",
       "    <tr>\n",
       "      <th>7966</th>\n",
       "      <td>NaN</td>\n",
       "      <td>70000.0</td>\n",
       "      <td>NaN</td>\n",
       "      <td>Individual</td>\n",
       "      <td>7.0</td>\n",
       "      <td>Diesel</td>\n",
       "      <td>Manual</td>\n",
       "      <td>18.49</td>\n",
       "      <td>15132.0</td>\n",
       "      <td>100.00</td>\n",
       "    </tr>\n",
       "  </tbody>\n",
       "</table>\n",
       "</div>"
      ],
      "text/plain": [
       "        year  km_driven         owner seller_type  seats    fuel transmission  \\\n",
       "6670  2013.0    70000.0   Third Owner  Individual    8.0  Diesel       Manual   \n",
       "2310  2009.0    80000.0  Second Owner  Individual    5.0  Petrol       Manual   \n",
       "7486  2015.0   125000.0   First Owner  Individual    8.0  Diesel       Manual   \n",
       "2620  2015.0    30000.0   First Owner  Individual    5.0  Petrol       Manual   \n",
       "7966     NaN    70000.0           NaN  Individual    7.0  Diesel       Manual   \n",
       "\n",
       "      mileage   engine  max_power  \n",
       "6670    14.00   2523.0      75.00  \n",
       "2310    20.36   1197.0      78.90  \n",
       "7486    21.04   1461.0    1901.96  \n",
       "2620    18.90   1197.0      82.00  \n",
       "7966    18.49  15132.0     100.00  "
      ]
     },
     "execution_count": 8,
     "metadata": {},
     "output_type": "execute_result"
    }
   ],
   "source": [
    "df_vehiculos.sample(5)"
   ]
  },
  {
   "cell_type": "code",
   "execution_count": null,
   "id": "98039e63-d950-4a02-90bb-8713a7e019db",
   "metadata": {},
   "outputs": [],
   "source": []
  }
 ],
 "metadata": {
  "kernelspec": {
   "display_name": "Python 3 (ipykernel)",
   "language": "python",
   "name": "python3"
  },
  "language_info": {
   "codemirror_mode": {
    "name": "ipython",
    "version": 3
   },
   "file_extension": ".py",
   "mimetype": "text/x-python",
   "name": "python",
   "nbconvert_exporter": "python",
   "pygments_lexer": "ipython3",
   "version": "3.9.13"
  }
 },
 "nbformat": 4,
 "nbformat_minor": 5
}
