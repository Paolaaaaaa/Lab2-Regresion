{
 "cells": [
  {
   "cell_type": "code",
   "execution_count": 1,
   "id": "05cf8923-899e-4289-b069-2d75af264504",
   "metadata": {},
   "outputs": [],
   "source": [
    "import numpy as np\n",
    "import pandas as pd\n",
    "\n",
    "from joblib import dump, load\n",
    "\n",
    "import matplotlib.pyplot as plt\n",
    "import seaborn as sns\n",
    "\n",
    "from sklearn.model_selection import train_test_split\n",
    "from sklearn.linear_model import LinearRegression\n",
    "from sklearn.pipeline import Pipeline\n",
    "from sklearn.compose import ColumnTransformer\n",
    "from sklearn.preprocessing import StandardScaler\n",
    "from sklearn.preprocessing import PolynomialFeatures\n",
    "from sklearn.metrics import mean_absolute_error, mean_squared_error, r2_score\n",
    "\n",
    "import scipy.stats as stats"
   ]
  },
  {
   "cell_type": "code",
   "execution_count": 2,
   "id": "499ee4a9-3290-4bcb-950e-415ad598ed1d",
   "metadata": {},
   "outputs": [],
   "source": [
    "pd.set_option('display.max_columns', None)\n",
    "pd.set_option('display.max_rows', 50)"
   ]
  },
  {
   "cell_type": "code",
   "execution_count": 3,
   "id": "bbe0dd3a-ff84-4f49-9081-9487dbc03acd",
   "metadata": {},
   "outputs": [],
   "source": [
    "df_vehiculos = pd.read_csv('./MotorAlpes.csv', sep=',', encoding = 'utf-8', index_col=0)"
   ]
  },
  {
   "cell_type": "code",
   "execution_count": 4,
   "id": "1a95a0a2-07ac-4a8a-ba2e-7bac0ff8099f",
   "metadata": {},
   "outputs": [
    {
     "data": {
      "text/plain": [
       "(791, 10)"
      ]
     },
     "execution_count": 4,
     "metadata": {},
     "output_type": "execute_result"
    }
   ],
   "source": [
    "df_vehiculos.shape"
   ]
  },
  {
   "cell_type": "code",
   "execution_count": 11,
   "id": "6275d55a-a616-4b71-b99c-84a2450ae477",
   "metadata": {},
   "outputs": [
    {
     "data": {
      "text/html": [
       "<div>\n",
       "<style scoped>\n",
       "    .dataframe tbody tr th:only-of-type {\n",
       "        vertical-align: middle;\n",
       "    }\n",
       "\n",
       "    .dataframe tbody tr th {\n",
       "        vertical-align: top;\n",
       "    }\n",
       "\n",
       "    .dataframe thead th {\n",
       "        text-align: right;\n",
       "    }\n",
       "</style>\n",
       "<table border=\"1\" class=\"dataframe\">\n",
       "  <thead>\n",
       "    <tr style=\"text-align: right;\">\n",
       "      <th></th>\n",
       "      <th>year</th>\n",
       "      <th>km_driven</th>\n",
       "      <th>owner</th>\n",
       "      <th>seller_type</th>\n",
       "      <th>seats</th>\n",
       "      <th>fuel</th>\n",
       "      <th>transmission</th>\n",
       "      <th>mileage</th>\n",
       "      <th>engine</th>\n",
       "      <th>max_power</th>\n",
       "    </tr>\n",
       "  </thead>\n",
       "  <tbody>\n",
       "    <tr>\n",
       "      <th>76</th>\n",
       "      <td>2013.0</td>\n",
       "      <td>120000.0</td>\n",
       "      <td>Second Owner</td>\n",
       "      <td>Individual</td>\n",
       "      <td>5.0</td>\n",
       "      <td>Diesel</td>\n",
       "      <td>Manual</td>\n",
       "      <td>22.90</td>\n",
       "      <td>1248.0</td>\n",
       "      <td>74.00</td>\n",
       "    </tr>\n",
       "    <tr>\n",
       "      <th>7423</th>\n",
       "      <td>2014.0</td>\n",
       "      <td>110000.0</td>\n",
       "      <td>Third Owner</td>\n",
       "      <td>Individual</td>\n",
       "      <td>5.0</td>\n",
       "      <td>Diesel</td>\n",
       "      <td>Manual</td>\n",
       "      <td>23.20</td>\n",
       "      <td>1248.0</td>\n",
       "      <td>73.94</td>\n",
       "    </tr>\n",
       "    <tr>\n",
       "      <th>1467</th>\n",
       "      <td>2008.0</td>\n",
       "      <td>120000.0</td>\n",
       "      <td>Second Owner</td>\n",
       "      <td>Individual</td>\n",
       "      <td>7.0</td>\n",
       "      <td>Diesel</td>\n",
       "      <td>Manual</td>\n",
       "      <td>11.57</td>\n",
       "      <td>2179.0</td>\n",
       "      <td>138.10</td>\n",
       "    </tr>\n",
       "    <tr>\n",
       "      <th>340</th>\n",
       "      <td>2013.0</td>\n",
       "      <td>110000.0</td>\n",
       "      <td>Third Owner</td>\n",
       "      <td>Individual</td>\n",
       "      <td>7.0</td>\n",
       "      <td>Diesel</td>\n",
       "      <td>Manual</td>\n",
       "      <td>20.77</td>\n",
       "      <td>1248.0</td>\n",
       "      <td>88.76</td>\n",
       "    </tr>\n",
       "    <tr>\n",
       "      <th>6399</th>\n",
       "      <td>2018.0</td>\n",
       "      <td>50000.0</td>\n",
       "      <td>Second Owner</td>\n",
       "      <td>Individual</td>\n",
       "      <td>5.0</td>\n",
       "      <td>Diesel</td>\n",
       "      <td>Manual</td>\n",
       "      <td>21.19</td>\n",
       "      <td>1396.0</td>\n",
       "      <td>88.73</td>\n",
       "    </tr>\n",
       "    <tr>\n",
       "      <th>7714</th>\n",
       "      <td>2016.0</td>\n",
       "      <td>45629.0</td>\n",
       "      <td>First Owner</td>\n",
       "      <td>Trustmark Dealer</td>\n",
       "      <td>5.0</td>\n",
       "      <td>Petrol</td>\n",
       "      <td>Automatic</td>\n",
       "      <td>18.90</td>\n",
       "      <td>1197.0</td>\n",
       "      <td>81.86</td>\n",
       "    </tr>\n",
       "    <tr>\n",
       "      <th>2802</th>\n",
       "      <td>NaN</td>\n",
       "      <td>120000.0</td>\n",
       "      <td>NaN</td>\n",
       "      <td>Individual</td>\n",
       "      <td>5.0</td>\n",
       "      <td>Diesel</td>\n",
       "      <td>Manual</td>\n",
       "      <td>19.87</td>\n",
       "      <td>10402.0</td>\n",
       "      <td>83.80</td>\n",
       "    </tr>\n",
       "    <tr>\n",
       "      <th>4145</th>\n",
       "      <td>2010.0</td>\n",
       "      <td>77000.0</td>\n",
       "      <td>First Owner</td>\n",
       "      <td>Individual</td>\n",
       "      <td>5.0</td>\n",
       "      <td>Petrol</td>\n",
       "      <td>Manual</td>\n",
       "      <td>18.90</td>\n",
       "      <td>NaN</td>\n",
       "      <td>NaN</td>\n",
       "    </tr>\n",
       "    <tr>\n",
       "      <th>6911</th>\n",
       "      <td>2009.0</td>\n",
       "      <td>87000.0</td>\n",
       "      <td>Second Owner</td>\n",
       "      <td>Individual</td>\n",
       "      <td>5.0</td>\n",
       "      <td>Petrol</td>\n",
       "      <td>Manual</td>\n",
       "      <td>13.20</td>\n",
       "      <td>1495.0</td>\n",
       "      <td>94.00</td>\n",
       "    </tr>\n",
       "    <tr>\n",
       "      <th>4723</th>\n",
       "      <td>2018.0</td>\n",
       "      <td>142000.0</td>\n",
       "      <td>First Owner</td>\n",
       "      <td>Individual</td>\n",
       "      <td>5.0</td>\n",
       "      <td>Diesel</td>\n",
       "      <td>Manual</td>\n",
       "      <td>14.10</td>\n",
       "      <td>8602.0</td>\n",
       "      <td>147.94</td>\n",
       "    </tr>\n",
       "  </tbody>\n",
       "</table>\n",
       "</div>"
      ],
      "text/plain": [
       "        year  km_driven         owner       seller_type  seats    fuel  \\\n",
       "76    2013.0   120000.0  Second Owner        Individual    5.0  Diesel   \n",
       "7423  2014.0   110000.0   Third Owner        Individual    5.0  Diesel   \n",
       "1467  2008.0   120000.0  Second Owner        Individual    7.0  Diesel   \n",
       "340   2013.0   110000.0   Third Owner        Individual    7.0  Diesel   \n",
       "6399  2018.0    50000.0  Second Owner        Individual    5.0  Diesel   \n",
       "7714  2016.0    45629.0   First Owner  Trustmark Dealer    5.0  Petrol   \n",
       "2802     NaN   120000.0           NaN        Individual    5.0  Diesel   \n",
       "4145  2010.0    77000.0   First Owner        Individual    5.0  Petrol   \n",
       "6911  2009.0    87000.0  Second Owner        Individual    5.0  Petrol   \n",
       "4723  2018.0   142000.0   First Owner        Individual    5.0  Diesel   \n",
       "\n",
       "     transmission  mileage   engine  max_power  \n",
       "76         Manual    22.90   1248.0      74.00  \n",
       "7423       Manual    23.20   1248.0      73.94  \n",
       "1467       Manual    11.57   2179.0     138.10  \n",
       "340        Manual    20.77   1248.0      88.76  \n",
       "6399       Manual    21.19   1396.0      88.73  \n",
       "7714    Automatic    18.90   1197.0      81.86  \n",
       "2802       Manual    19.87  10402.0      83.80  \n",
       "4145       Manual    18.90      NaN        NaN  \n",
       "6911       Manual    13.20   1495.0      94.00  \n",
       "4723       Manual    14.10   8602.0     147.94  "
      ]
     },
     "execution_count": 11,
     "metadata": {},
     "output_type": "execute_result"
    }
   ],
   "source": [
    "df_vehiculos.sample(10)"
   ]
  },
  {
   "cell_type": "code",
   "execution_count": 6,
   "id": "98039e63-d950-4a02-90bb-8713a7e019db",
   "metadata": {},
   "outputs": [
    {
     "data": {
      "text/plain": [
       "year            float64\n",
       "km_driven       float64\n",
       "owner            object\n",
       "seller_type      object\n",
       "seats           float64\n",
       "fuel             object\n",
       "transmission     object\n",
       "mileage         float64\n",
       "engine          float64\n",
       "max_power       float64\n",
       "dtype: object"
      ]
     },
     "execution_count": 6,
     "metadata": {},
     "output_type": "execute_result"
    }
   ],
   "source": [
    "# Podemos ver los tipos de todas la variables.\n",
    "df_vehiculos.dtypes"
   ]
  },
  {
   "cell_type": "code",
   "execution_count": 7,
   "id": "7bee741a-807d-4c01-b0a6-a1b523b70b6e",
   "metadata": {},
   "outputs": [
    {
     "data": {
      "text/html": [
       "<div>\n",
       "<style scoped>\n",
       "    .dataframe tbody tr th:only-of-type {\n",
       "        vertical-align: middle;\n",
       "    }\n",
       "\n",
       "    .dataframe tbody tr th {\n",
       "        vertical-align: top;\n",
       "    }\n",
       "\n",
       "    .dataframe thead th {\n",
       "        text-align: right;\n",
       "    }\n",
       "</style>\n",
       "<table border=\"1\" class=\"dataframe\">\n",
       "  <thead>\n",
       "    <tr style=\"text-align: right;\">\n",
       "      <th></th>\n",
       "      <th>year</th>\n",
       "      <th>km_driven</th>\n",
       "      <th>seats</th>\n",
       "      <th>mileage</th>\n",
       "      <th>engine</th>\n",
       "      <th>max_power</th>\n",
       "    </tr>\n",
       "  </thead>\n",
       "  <tbody>\n",
       "    <tr>\n",
       "      <th>count</th>\n",
       "      <td>764.000000</td>\n",
       "      <td>769.000000</td>\n",
       "      <td>791.00000</td>\n",
       "      <td>769.000000</td>\n",
       "      <td>763.000000</td>\n",
       "      <td>762.000000</td>\n",
       "    </tr>\n",
       "    <tr>\n",
       "      <th>mean</th>\n",
       "      <td>2013.816754</td>\n",
       "      <td>70209.823147</td>\n",
       "      <td>5.46397</td>\n",
       "      <td>19.502421</td>\n",
       "      <td>1835.280472</td>\n",
       "      <td>141.170696</td>\n",
       "    </tr>\n",
       "    <tr>\n",
       "      <th>std</th>\n",
       "      <td>3.904554</td>\n",
       "      <td>48346.299689</td>\n",
       "      <td>1.00802</td>\n",
       "      <td>4.173028</td>\n",
       "      <td>2179.398466</td>\n",
       "      <td>276.544074</td>\n",
       "    </tr>\n",
       "    <tr>\n",
       "      <th>min</th>\n",
       "      <td>1996.000000</td>\n",
       "      <td>2000.000000</td>\n",
       "      <td>4.00000</td>\n",
       "      <td>0.000000</td>\n",
       "      <td>47.000000</td>\n",
       "      <td>1.270000</td>\n",
       "    </tr>\n",
       "    <tr>\n",
       "      <th>25%</th>\n",
       "      <td>2011.000000</td>\n",
       "      <td>35000.000000</td>\n",
       "      <td>5.00000</td>\n",
       "      <td>16.520000</td>\n",
       "      <td>1197.000000</td>\n",
       "      <td>68.050000</td>\n",
       "    </tr>\n",
       "    <tr>\n",
       "      <th>50%</th>\n",
       "      <td>2015.000000</td>\n",
       "      <td>67000.000000</td>\n",
       "      <td>5.00000</td>\n",
       "      <td>19.330000</td>\n",
       "      <td>1368.000000</td>\n",
       "      <td>83.100000</td>\n",
       "    </tr>\n",
       "    <tr>\n",
       "      <th>75%</th>\n",
       "      <td>2017.000000</td>\n",
       "      <td>100000.000000</td>\n",
       "      <td>5.00000</td>\n",
       "      <td>22.540000</td>\n",
       "      <td>1598.000000</td>\n",
       "      <td>104.412500</td>\n",
       "    </tr>\n",
       "    <tr>\n",
       "      <th>max</th>\n",
       "      <td>2020.000000</td>\n",
       "      <td>577414.000000</td>\n",
       "      <td>10.00000</td>\n",
       "      <td>37.240000</td>\n",
       "      <td>19140.000000</td>\n",
       "      <td>1997.270000</td>\n",
       "    </tr>\n",
       "  </tbody>\n",
       "</table>\n",
       "</div>"
      ],
      "text/plain": [
       "              year      km_driven      seats     mileage        engine  \\\n",
       "count   764.000000     769.000000  791.00000  769.000000    763.000000   \n",
       "mean   2013.816754   70209.823147    5.46397   19.502421   1835.280472   \n",
       "std       3.904554   48346.299689    1.00802    4.173028   2179.398466   \n",
       "min    1996.000000    2000.000000    4.00000    0.000000     47.000000   \n",
       "25%    2011.000000   35000.000000    5.00000   16.520000   1197.000000   \n",
       "50%    2015.000000   67000.000000    5.00000   19.330000   1368.000000   \n",
       "75%    2017.000000  100000.000000    5.00000   22.540000   1598.000000   \n",
       "max    2020.000000  577414.000000   10.00000   37.240000  19140.000000   \n",
       "\n",
       "         max_power  \n",
       "count   762.000000  \n",
       "mean    141.170696  \n",
       "std     276.544074  \n",
       "min       1.270000  \n",
       "25%      68.050000  \n",
       "50%      83.100000  \n",
       "75%     104.412500  \n",
       "max    1997.270000  "
      ]
     },
     "execution_count": 7,
     "metadata": {},
     "output_type": "execute_result"
    }
   ],
   "source": [
    "# Y hacer una descripción de los datos\n",
    "df_vehiculos.describe()"
   ]
  },
  {
   "cell_type": "code",
   "execution_count": 25,
   "id": "c658d558-c29e-4636-b5c4-47e2fce3db7c",
   "metadata": {},
   "outputs": [
    {
     "name": "stderr",
     "output_type": "stream",
     "text": [
      "C:\\Users\\jefed\\anaconda3\\lib\\site-packages\\seaborn\\_core.py:1326: UserWarning: Vertical orientation ignored with only `x` specified.\n",
      "  warnings.warn(single_var_warning.format(\"Vertical\", \"x\"))\n"
     ]
    },
    {
     "data": {
      "image/png": "[encoded data removed]",
      "text/plain": [
       "<Figure size 1200x800 with 1 Axes>"
      ]
     },
     "metadata": {},
     "output_type": "display_data"
    }
   ],
   "source": [
    "fig=plt.figure(figsize=(12,8))\n",
    "ax = sns.boxplot(x=\"year\", data=df_vehiculos, orient=\"v\")"
   ]
  },
  {
   "cell_type": "code",
   "execution_count": 26,
   "id": "360fc99a-7246-41ac-9aa6-14b6abbcdfaa",
   "metadata": {},
   "outputs": [
    {
     "name": "stderr",
     "output_type": "stream",
     "text": [
      "C:\\Users\\jefed\\anaconda3\\lib\\site-packages\\seaborn\\_core.py:1326: UserWarning: Vertical orientation ignored with only `x` specified.\n",
      "  warnings.warn(single_var_warning.format(\"Vertical\", \"x\"))\n"
     ]
    },
    {
     "data": {
      "image/png": "[encoded data removed]",
      "text/plain": [
       "<Figure size 1200x800 with 1 Axes>"
      ]
     },
     "metadata": {},
     "output_type": "display_data"
    }
   ],
   "source": [
    "fig=plt.figure(figsize=(12,8))\n",
    "ax = sns.boxplot(x=\"km_driven\", data=df_vehiculos, orient=\"v\")"
   ]
  },
  {
   "cell_type": "code",
   "execution_count": 27,
   "id": "fd3db6ec-c1c4-4a58-8c7c-11959b0de5d0",
   "metadata": {},
   "outputs": [
    {
     "name": "stderr",
     "output_type": "stream",
     "text": [
      "C:\\Users\\jefed\\anaconda3\\lib\\site-packages\\seaborn\\_core.py:1326: UserWarning: Vertical orientation ignored with only `x` specified.\n",
      "  warnings.warn(single_var_warning.format(\"Vertical\", \"x\"))\n"
     ]
    },
    {
     "data": {
      "image/png": "[encoded data removed]",
      "text/plain": [
       "<Figure size 1200x800 with 1 Axes>"
      ]
     },
     "metadata": {},
     "output_type": "display_data"
    }
   ],
   "source": [
    "fig=plt.figure(figsize=(12,8))\n",
    "ax = sns.boxplot(x=\"seats\", data=df_vehiculos, orient=\"v\")"
   ]
  },
  {
   "cell_type": "code",
   "execution_count": 28,
   "id": "66aa4385-7d06-42e0-9d45-b9af7b591551",
   "metadata": {},
   "outputs": [
    {
     "name": "stderr",
     "output_type": "stream",
     "text": [
      "C:\\Users\\jefed\\anaconda3\\lib\\site-packages\\seaborn\\_core.py:1326: UserWarning: Vertical orientation ignored with only `x` specified.\n",
      "  warnings.warn(single_var_warning.format(\"Vertical\", \"x\"))\n"
     ]
    },
    {
     "data": {
      "image/png": "[encoded data removed]",
      "text/plain": [
       "<Figure size 1200x800 with 1 Axes>"
      ]
     },
     "metadata": {},
     "output_type": "display_data"
    }
   ],
   "source": [
    "fig=plt.figure(figsize=(12,8))\n",
    "ax = sns.boxplot(x=\"mileage\", data=df_vehiculos, orient=\"v\")"
   ]
  },
  {
   "cell_type": "code",
   "execution_count": 29,
   "id": "873bcf54-ca4b-4a65-bf5e-ef7325e95871",
   "metadata": {},
   "outputs": [
    {
     "name": "stderr",
     "output_type": "stream",
     "text": [
      "C:\\Users\\jefed\\anaconda3\\lib\\site-packages\\seaborn\\_core.py:1326: UserWarning: Vertical orientation ignored with only `x` specified.\n",
      "  warnings.warn(single_var_warning.format(\"Vertical\", \"x\"))\n"
     ]
    },
    {
     "data": {
      "image/png": "[encoded data removed]",
      "text/plain": [
       "<Figure size 1200x800 with 1 Axes>"
      ]
     },
     "metadata": {},
     "output_type": "display_data"
    }
   ],
   "source": [
    "fig=plt.figure(figsize=(12,8))\n",
    "ax = sns.boxplot(x=\"engine\", data=df_vehiculos, orient=\"v\")"
   ]
  },
  {
   "cell_type": "code",
   "execution_count": 30,
   "id": "c8ba0ae3-8a91-44cc-ab8d-1e1f1a6c0133",
   "metadata": {},
   "outputs": [
    {
     "name": "stderr",
     "output_type": "stream",
     "text": [
      "C:\\Users\\jefed\\anaconda3\\lib\\site-packages\\seaborn\\_core.py:1326: UserWarning: Vertical orientation ignored with only `x` specified.\n",
      "  warnings.warn(single_var_warning.format(\"Vertical\", \"x\"))\n"
     ]
    },
    {
     "data": {
      "image/png": "[encoded data removed]",
      "text/plain": [
       "<Figure size 1200x800 with 1 Axes>"
      ]
     },
     "metadata": {},
     "output_type": "display_data"
    }
   ],
   "source": [
    "fig=plt.figure(figsize=(12,8))\n",
    "ax = sns.boxplot(x=\"max_power\", data=df_vehiculos, orient=\"v\")"
   ]
  },
  {
   "cell_type": "code",
   "execution_count": 31,
   "id": "ac6e8d0b-ed02-4d02-a364-eb9008b1933b",
   "metadata": {},
   "outputs": [
    {
     "data": {
      "text/plain": [
       "year            27\n",
       "km_driven       22\n",
       "owner           27\n",
       "seller_type      0\n",
       "seats            0\n",
       "fuel             0\n",
       "transmission     0\n",
       "mileage         22\n",
       "engine          28\n",
       "max_power       29\n",
       "dtype: int64"
      ]
     },
     "execution_count": 31,
     "metadata": {},
     "output_type": "execute_result"
    }
   ],
   "source": [
    "df_vehiculos.isnull().sum()"
   ]
  },
  {
   "cell_type": "code",
   "execution_count": 32,
   "id": "685fb20c-2f6b-4137-9280-b99f7c785ed0",
   "metadata": {},
   "outputs": [
    {
     "data": {
      "text/plain": [
       "(791, 10)"
      ]
     },
     "execution_count": 32,
     "metadata": {},
     "output_type": "execute_result"
    }
   ],
   "source": [
    "#Limpieza y preparacion de los datos\n",
    "df_vehiculos_p = df_vehiculos\n",
    "#Eliminar duplicados\n",
    "df_vehiculos_p = df_vehiculos_p.drop_duplicates()\n",
    "\n",
    "df_vehiculos.shape"
   ]
  },
  {
   "cell_type": "code",
   "execution_count": 44,
   "id": "0ddef520-8b16-4443-a55f-25d2290fd88d",
   "metadata": {},
   "outputs": [
    {
     "name": "stdout",
     "output_type": "stream",
     "text": [
      "3105    2014.0\n",
      "4030    2016.0\n",
      "1656    2014.0\n",
      "3580    2016.0\n",
      "5725       NaN\n",
      "         ...  \n",
      "2004    2015.0\n",
      "6357    2007.0\n",
      "988     2018.0\n",
      "2339    2011.0\n",
      "1995    2016.0\n",
      "Name: year, Length: 791, dtype: float64\n",
      "2013.8167539267015\n"
     ]
    }
   ],
   "source": [
    "year = df_vehiculos['year']\n",
    "mean_year = year.mean()\n",
    "print(year)\n",
    "print(mean_year)"
   ]
  },
  {
   "cell_type": "code",
   "execution_count": 50,
   "id": "22fd25ff-b057-4c81-b025-ae26106abd00",
   "metadata": {},
   "outputs": [],
   "source": [
    "for x in year:\n",
    "  if(x is None):\n",
    "    x = mean_year\n",
    "    print(x)"
   ]
  },
  {
   "cell_type": "code",
   "execution_count": 51,
   "id": "4df3cd7e-0fb5-43d3-8957-d0a222dd0df2",
   "metadata": {},
   "outputs": [
    {
     "name": "stdout",
     "output_type": "stream",
     "text": [
      "3105    2014.0\n",
      "4030    2016.0\n",
      "1656    2014.0\n",
      "3580    2016.0\n",
      "5725       NaN\n",
      "         ...  \n",
      "2004    2015.0\n",
      "6357    2007.0\n",
      "988     2018.0\n",
      "2339    2011.0\n",
      "1995    2016.0\n",
      "Name: year, Length: 791, dtype: float64\n"
     ]
    }
   ],
   "source": [
    "print(year)"
   ]
  },
  {
   "cell_type": "code",
   "execution_count": null,
   "id": "a0b870b6-18cd-4c6e-8f2a-3c4adde0a887",
   "metadata": {},
   "outputs": [],
   "source": []
  }
 ],
 "metadata": {
  "kernelspec": {
   "display_name": "Python 3 (ipykernel)",
   "language": "python",
   "name": "python3"
  },
  "language_info": {
   "codemirror_mode": {
    "name": "ipython",
    "version": 3
   },
   "file_extension": ".py",
   "mimetype": "text/x-python",
   "name": "python",
   "nbconvert_exporter": "python",
   "pygments_lexer": "ipython3",
   "version": "3.9.13"
  }
 },
 "nbformat": 4,
 "nbformat_minor": 5
}
